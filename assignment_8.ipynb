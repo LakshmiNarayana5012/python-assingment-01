{
  "nbformat": 4,
  "nbformat_minor": 0,
  "metadata": {
    "colab": {
      "name": "assignment 8",
      "provenance": [],
      "include_colab_link": true
    },
    "kernelspec": {
      "name": "python3",
      "display_name": "Python 3"
    }
  },
  "cells": [
    {
      "cell_type": "markdown",
      "metadata": {
        "id": "view-in-github",
        "colab_type": "text"
      },
      "source": [
        "<a href=\"https://colab.research.google.com/github/LakshmiNarayana5012/python-assingment-01/blob/master/assignment_8.ipynb\" target=\"_parent\"><img src=\"https://colab.research.google.com/assets/colab-badge.svg\" alt=\"Open In Colab\"/></a>"
      ]
    },
    {
      "cell_type": "code",
      "metadata": {
        "id": "Z3unRe-JxWNv",
        "colab_type": "code",
        "colab": {}
      },
      "source": [
        ""
      ],
      "execution_count": null,
      "outputs": []
    },
    {
      "cell_type": "markdown",
      "metadata": {
        "id": "_em4j4faxW6m",
        "colab_type": "text"
      },
      "source": [
        ""
      ]
    },
    {
      "cell_type": "markdown",
      "metadata": {
        "id": "DlPFtki2xql4",
        "colab_type": "text"
      },
      "source": [
        "1.Write a python function to find the Max of three numbers."
      ]
    },
    {
      "cell_type": "code",
      "metadata": {
        "id": "RfWhLUEDx7ON",
        "colab_type": "code",
        "colab": {}
      },
      "source": [
        "def maximum(a,b,c):\n",
        "\n",
        "\n",
        "  if (a>=b) and (a>=c):\n",
        "\n",
        "    largest = a\n",
        "  elif (b>=a) and (b>=c):\n",
        "\n",
        "    largest = b\n",
        "  else:\n",
        "\n",
        "    largest = c\n",
        "\n",
        "    \n",
        "  return largest"
      ],
      "execution_count": null,
      "outputs": []
    },
    {
      "cell_type": "code",
      "metadata": {
        "id": "5142PkOfy9rN",
        "colab_type": "code",
        "colab": {
          "base_uri": "https://localhost:8080/",
          "height": 34
        },
        "outputId": "bb7a3b89-9956-43cb-bf07-1e1efe8b1c65"
      },
      "source": [
        "a = 3\n",
        "b = 5\n",
        "c = 9\n",
        "print ('the maxiumum of three numbers is ', +maximum(a,b,c))"
      ],
      "execution_count": null,
      "outputs": [
        {
          "output_type": "stream",
          "text": [
            "the maxiumum of three numbers is  9\n"
          ],
          "name": "stdout"
        }
      ]
    },
    {
      "cell_type": "markdown",
      "metadata": {
        "id": "G0fKXiLn3tiv",
        "colab_type": "text"
      },
      "source": [
        "2.Write a python program to reverse a string."
      ]
    },
    {
      "cell_type": "code",
      "metadata": {
        "id": "TyUHbIrA37Un",
        "colab_type": "code",
        "colab": {
          "base_uri": "https://localhost:8080/",
          "height": 34
        },
        "outputId": "2fecbcd9-0300-4583-95fb-b47df5fa85c6"
      },
      "source": [
        "x=\"python\"\n",
        "x[::-1]\n",
        "      \n",
        "\n"
      ],
      "execution_count": null,
      "outputs": [
        {
          "output_type": "execute_result",
          "data": {
            "text/plain": [
              "'nohtyp'"
            ]
          },
          "metadata": {
            "tags": []
          },
          "execution_count": 60
        }
      ]
    },
    {
      "cell_type": "markdown",
      "metadata": {
        "id": "vwPyGwK6_Etj",
        "colab_type": "text"
      },
      "source": [
        "3.Write a python function to check whether the number is prime or not."
      ]
    },
    {
      "cell_type": "code",
      "metadata": {
        "id": "4NRtYBI1_Yn2",
        "colab_type": "code",
        "colab": {
          "base_uri": "https://localhost:8080/",
          "height": 34
        },
        "outputId": "47f9b3d7-3a8e-49b4-a3d6-814925db6290"
      },
      "source": [
        "def prime_check(num):\n",
        "  if num<0:\n",
        "    print(\"Negative numbers cannot be prime.\")\n",
        "  elif num==0 and num==1:\n",
        "      print(\" it is neither prime nor composite.\")\n",
        "  elif num==2: \n",
        "        print(\"2 is the only even prime number.\")\n",
        "  elif num>2:\n",
        "      for i in range(2,num):\n",
        "          if num%i ==0:\n",
        "              print(\"it is not a prime number\")\n",
        "              break\n",
        "      else:\n",
        "        print(\"it is a prime number\")\n",
        "prime_check(23)        \n",
        "\n",
        "        \n"
      ],
      "execution_count": null,
      "outputs": [
        {
          "output_type": "stream",
          "text": [
            "it is a prime number\n"
          ],
          "name": "stdout"
        }
      ]
    },
    {
      "cell_type": "markdown",
      "metadata": {
        "id": "xqeMWHutBa1g",
        "colab_type": "text"
      },
      "source": [
        ""
      ]
    },
    {
      "cell_type": "markdown",
      "metadata": {
        "id": "zZSv4tXZ-AMb",
        "colab_type": "text"
      },
      "source": [
        "4.Write a python function to find sum of square of first n natural numbers."
      ]
    },
    {
      "cell_type": "code",
      "metadata": {
        "id": "Ll1kOfKuHfhh",
        "colab_type": "code",
        "colab": {}
      },
      "source": [
        "def squaresum(n) :\n",
        "\n",
        "  sum = (0)\n",
        "\n",
        "  for i in range(1, n+1 ) :\n",
        "\n",
        "     sum = sum + (i * i)\n",
        "\n",
        "  return sum\n",
        "\n",
        "\n"
      ],
      "execution_count": null,
      "outputs": []
    },
    {
      "cell_type": "code",
      "metadata": {
        "id": "53Riq8jkIrS0",
        "colab_type": "code",
        "colab": {
          "base_uri": "https://localhost:8080/",
          "height": 34
        },
        "outputId": "dc44a6b9-39e3-4a52-9eea-d41f3c963a27"
      },
      "source": [
        "n = 2\n",
        "print(squaresum(n))"
      ],
      "execution_count": null,
      "outputs": [
        {
          "output_type": "stream",
          "text": [
            "5\n"
          ],
          "name": "stdout"
        }
      ]
    },
    {
      "cell_type": "code",
      "metadata": {
        "id": "HPyHfjmxIoA-",
        "colab_type": "code",
        "colab": {}
      },
      "source": [
        ""
      ],
      "execution_count": null,
      "outputs": []
    },
    {
      "cell_type": "markdown",
      "metadata": {
        "id": "4xtFIC--8qMC",
        "colab_type": "text"
      },
      "source": [
        ""
      ]
    },
    {
      "cell_type": "code",
      "metadata": {
        "id": "rQGSHyPk8WI7",
        "colab_type": "code",
        "colab": {}
      },
      "source": [
        ""
      ],
      "execution_count": null,
      "outputs": []
    },
    {
      "cell_type": "markdown",
      "metadata": {
        "id": "_E-PbckdxYvX",
        "colab_type": "text"
      },
      "source": [
        ""
      ]
    }
  ]
}